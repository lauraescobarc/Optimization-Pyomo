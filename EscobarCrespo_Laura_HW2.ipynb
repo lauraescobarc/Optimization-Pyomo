{
  "cells": [
    {
      "cell_type": "markdown",
      "metadata": {
        "id": "uCMRjFUoBBxw"
      },
      "source": [
        "# SECOND HOMEWORK: NETWORK OPTIMIZATION AND NON-LINEAR MODELS (TOPICS 2 AND 3)\n",
        "\n",
        "## Data Science and Engineering\n",
        "\n",
        "\n",
        "\n",
        "**Full name:** Laura Escobar Crespo\n",
        "    \n",
        "\n",
        "---"
      ]
    },
    {
      "cell_type": "markdown",
      "metadata": {
        "id": "ARAjdy6XBBx6"
      },
      "source": [
        "### NETWORK OPTIMIZATION PROBLEM\n",
        "\n",
        "---\n",
        "\n",
        "**Description of the problem:**"
      ]
    },
    {
      "cell_type": "markdown",
      "metadata": {
        "id": "U2M40ThMBBx8"
      },
      "source": [
        "This problem simulates a logistic problem that sell a given and unknown product X. In this case, we have six customers, two factories and four stores. Each customer has a specific demand of units of the product. This can be satisfied from one or more of the four stores, or directly from one of both two factories (or even a combination of stores and factories). \n",
        "\n",
        "Factories are the ones which produces the goods; however, they have a maximum amount of production. Similarly, each store can support a maximum volume of product moving through it.\n",
        "\n",
        "Each product that arraives to a store should pass a quality control. However each laboratoy only has capacity for 10,000 units, and the number of laboratories in each store varies. \n",
        "\n",
        "Products can go from a factory to a client, from a factory to a store or from a store to a client. Each of these relations of transport have a different cost per unit, and depends which factory, store or client are we dealing with.\n",
        "\n",
        "The factories are located in Madrid and Barcelona, whereas the store are in Sevilla, Toledo, Valencia and Zaragoza. For privacy reasons, the six clients are just enumerated (C1, C2, C3, C4, C5 and C6).\n",
        "\n",
        "The capacity (named *supplies*) of the factories is given by the following table:\n",
        "\n",
        "| Factory | Supplies (untis) |\n",
        "| --- | --- |\n",
        "| Madrid | 150,000 |\n",
        "| Barcelona |  200,000 |\n",
        "\n",
        "\n",
        "As it was described before, the product can be shipped from a factory to a set of four stores. Each store has a maximum storage capacity. Stores do not produce or demand the product; they simply pass the product to customers. So any amount of product given to a customer from a store should be equal to the given from a factory to that store.\n",
        "\n",
        "| Store | Capacity (units) |\n",
        "| --- | --- |\n",
        "| Sevilla | 70,000 |\n",
        "| Toledo | 50,000 |\n",
        "| Valencia | 100,000 |\n",
        "| Zaragoza | 40,000 |\n",
        "\n",
        "Now, each store has a specific number of laboratories in each store:\n",
        "\n",
        "| Store | Laboratories |\n",
        "| --- | --- |\n",
        "| Sevilla | 5 |\n",
        "| Toledo | 6 |\n",
        "| Valencia | 5 |\n",
        "| Zaragoza | 5 |\n",
        "\n",
        "And, finally, the customers' demand:\n",
        "\n",
        "| Customer | Demand (units) |\n",
        "| --- | --- |\n",
        "| C1 | 50,000 |\n",
        "| C2 | 10,000 |\n",
        "| C3 | 40,000 |\n",
        "| C4 | 35,000 |\n",
        "| C5 | 60,000 |\n",
        "| C6 | 20,000 |\n",
        "\n",
        "The following table shows the cost, in euros per unit, of the relation between the starting point (factory or store) and the end point (store or client). Columns are the starting points and rows are the end points. Some cells are filled with '-', meaning that the combination is not possible. The emty cells are considered as ceros, or useless relations. They are the relation between two stores, which is not going to be in the optimal solution as it will only increase the costs, but they are neccesary to be defined in order our model work.\n",
        "\n",
        "| To | Madrid | Barcelona | Sevilla | Toledo | Valencia | Zaragoza |\n",
        "| --- | --- | --- | --- | --- | --- | --- |\n",
        "| Sevilla  | 0.5 |   - |\n",
        "| Toledo | 0.5 | 0.3 |\n",
        "| Valencia     | 1.0 | 0.5 |\n",
        "| Zaragoza     | 0.2 | 0.2 |\n",
        "| C1 | 1.0 | 2.0 |   - | 1.0 |   - |   - |\n",
        "| C2 |   - |   - | 1.5 | 0.5 | 1.5 |   - |\n",
        "| C3 | 1.5 |   - | 0.5 | 0.5 | 2.0 | 0.2 |\n",
        "| C4 | 2.0 |   - |   - | 1.0 |   - | 1.5 |\n",
        "| C5 |   - |   - | 1.5 | 0.5 | 0.5 | 0.5 |\n",
        "| C6 | 1.0 |   - | 1.0 |   - | 1.5 | 1.5 |\n",
        "\n",
        "The objective of this problem is to satify the demand of the clients but spending as less as possible (minimize the costs).\n",
        "\n",
        "---"
      ]
    },
    {
      "cell_type": "markdown",
      "metadata": {
        "id": "33rmvDZXBBx_"
      },
      "source": [
        "**Formulation of the problem:**\n",
        "\n"
      ]
    },
    {
      "cell_type": "markdown",
      "metadata": {
        "id": "wm2_e6pTBByA"
      },
      "source": [
        "*Sets:*\n",
        "\n",
        "$$f \\in \\text{Factories}=\\{\\text{Madrid}, \\text{Barcelona}\\}$$\n",
        "\n",
        "$$s \\in \\text{Stores}=\\{\\text{Sevilla}, \\text{Toledo}, \\text{Valencia}, \\text{Zaragoza}\\}$$\n",
        "\n",
        "$$c \\in \\text{Customers}=\\{\\text{C1}, \\text{C2}, \\text{C3}, \\text{C4}, \\text{C5}, \\text{C6}\\}$$\n",
        "\n",
        "$$i \\in \\text{Origins} = \\text{Factories} \\cup \\text{Stores}=\\{\\text{Madrid}, \\text{Barcelona}, \\text{Sevilla}, \\text{Toledo}, \\text{Valencia}, \\text{Zaragoza}\\}$$\n",
        "\n",
        "$$j \\in \\text{Destinations} = \\text{Stores} \\cup \\text{Customers}=\\{\\text{Sevilla}, \\text{Toledo}, \\text{Valencia}, \\text{Zaragoza}, \\text{C1}, \\text{C2}, \\text{C3}, \\text{C4}, \\text{C5}, \\text{C6}\\}$$\n",
        "\n",
        "*Parameters:*\n",
        "\n",
        "*   Maximum amount of units in a factory: $\\hspace{0.2cm}\\text{supplies}_f \\in \\mathbb{R}^+$\n",
        "\n",
        "\n",
        "*   Demand of products by customers: $\\hspace{0.2cm}\\text{demand}_c \\in \\mathbb{R}^+$\n",
        "\n",
        "\n",
        "*   Capacity of stores: $\\hspace{0.2cm}\\text{capacity}_s \\in \\mathbb{R}^+$\n",
        "\n",
        "\n",
        "*   Laboratories of stores: $\\hspace{0.2cm}\\text{laboratory}_s \\in \\mathbb{R}^+$\n",
        "\n",
        "\n",
        "*   Cost euros per unit of the relation between origins and destinations: $\\hspace{0.2cm}\\text{cost}_{i,j} \\in \\mathbb{R}^+$\n",
        "\n",
        "\n",
        "*Decisional variables:*\n",
        "\n",
        "Units of products that are sent from an origin $i$ to a destination $j$:\n",
        "\n",
        "$$\\text{flow}_{i,j} \\in \\mathbb{N}^+$$\n",
        "\n",
        "\n",
        "*Objective function:*\n",
        "\n",
        "The objective of this problem is to minimize the cost.\n",
        "\n",
        "\\begin{equation}\n",
        "\\text{min} \\sum_{(i,j)}{\\text{cost}_{i,j}·\\text{flow}_{i,j}}\n",
        "\\end{equation}\n",
        "\n",
        "\n",
        "*Constraints:*\n",
        "\n",
        "*   Factory Supplies Constraint: The amount of products that are produce in a factory must respect the capacity of the factories.\n",
        "\n",
        "\n",
        "\\begin{equation}\n",
        "\\sum_{j \\in \\text{Destinations}}{\\text{flow}_{f,j}} \\leq \\text{supplies}_{f} \\quad \\forall f \\in \\text{Factories}\n",
        "\\end{equation}\n",
        "\n",
        "\n",
        "*   Customer Demand Constraint: The demand of each client must be satisfied.\n",
        "\n",
        "\\begin{equation}\n",
        "\\sum_{i \\in \\text{Origins}}{\\text{flow}_{i,c}} = \\text{demand}_{c} \\quad \\forall c \\in \\text{Customers}\n",
        "\\end{equation}\n",
        "\n",
        "\n",
        "*   Store Capacity Constraint: The amount of products that enters in a store must respect its capacity.\n",
        "\n",
        "\\begin{equation}\n",
        "\\sum_{j \\in \\text{Destinations}}{\\text{flow}_{s,j}} \\leq \\text{capacity}_{s}\n",
        "\\quad \\forall s \\in \\text{Stores}\n",
        "\\end{equation}\n",
        "\n",
        "\n",
        "*   Depot Flow Constraint: The number of products that come out from the store must be equal to the number of products that enters in.\n",
        "\n",
        "\\begin{equation}\n",
        "\\sum_{j \\in \\text{Destinations}}{\\text{flow}_{s,j}} = \n",
        "\\sum_{f \\in \\text{Factories}}{\\text{flow}_{f,s}}\n",
        "\\quad \\forall s \\in \\text{Stores}\n",
        "\\end{equation}\n",
        "\n",
        "*   Laboratory Constrain: The number of laboratories times its capacity should not be greater that the number of products received.\n",
        "\n",
        "\\begin{equation}\n",
        "\\sum_{j \\in \\text{Destinations}}{\\text{flow}_{s,j}} \\leq \\text{laboratories}_{s}·10,000\n",
        "\\quad \\forall s \\in \\text{Stores}\n",
        "\\end{equation}\n",
        "\n",
        "\n",
        "\n",
        "*Note 1:* As we are working always with units of products, we multiply the number of laboratories times their capacity (which is 10,000 units) to work with the same notation.\n",
        "\n",
        "---"
      ]
    },
    {
      "cell_type": "markdown",
      "metadata": {
        "id": "PcpDk4ibBByD"
      },
      "source": [
        "**Explanation of the code:**\n",
        "\n",
        "After loading the Pyomo Modeling Enviroment, the *model* is defined. In this case the model is *Concrete* as it is inmediatily constructed and the used data\tis\tpresented\tat\tthe\ttime as the\tcomponents are\tdefined. It should be pointed out that the model is constructed using a local variable so it is easier to call when it is needed.\n",
        "\n",
        "Next, the sets ranges are defined. As the given data is not too large (it cannot be too large because it is a network optimization problem and the computational time could spend too much time), are written manually.\n",
        "\n",
        "Thanks to the sets, now we are able to built the parameters, which contains crucial information to solve the problem.\n",
        "\n",
        "The decison varibles, named as *flow*, uses the index sets previusly created of the origins and destinations with domanin *NonNegativeReals*, which means that in the solution we do not accept negative numbers. As we know the the sets for these varibles, we know that at the end we are computing for 60 decision variables (origins multiplied by destinations is equal to 60).\n",
        "\n",
        "*Note 2*: When the values for the cost are defined, some relations between an origin and a destination has a really big value. This is because, as it was explainded before, there are some combinations which are impossible, so in order to ensure that this impossible ways are not chosen, we stablish its cost with a ridiculous value.\n",
        "\n",
        "The next step is to set the objective function. It is just following the formula defined above applied to python. It is important to specify our desire of minimize. The same is done for the five constraints, it is just following the formulas.\n",
        "\n",
        "*Note 3:* To see in more detail, the definitions of the sets, parameters, decision variables, objective function and constraints, they are described in *Formulation of the problem*.\n",
        "\n",
        "---"
      ]
    },
    {
      "cell_type": "markdown",
      "metadata": {
        "id": "Qie9-lBfBByE"
      },
      "source": [
        "**Code:**"
      ]
    },
    {
      "cell_type": "code",
      "execution_count": null,
      "metadata": {
        "id": "UpR3pW0tLsjk"
      },
      "outputs": [],
      "source": [
        "from pyomo.environ import *\n",
        "model = ConcreteModel()\n",
        "\n",
        "model.i = Set(initialize=['Madrid','Barcelona','Sevilla','Toledo','Valencia','Zaragoza'], doc='origins' )\n",
        "model.j = Set(initialize=['Sevilla','Toledo','Valencia','Zaragoza','C1', 'C2', 'C3','C4','C5', 'C6'], doc='destinations')\n",
        "\n",
        "model.factory = Set(initialize=['Madrid','Barcelona'])\n",
        "model.store = Set(initialize=['Sevilla','Toledo','Valencia','Zaragoza'])\n",
        "model.customer = Set(initialize=['C1', 'C2', 'C3','C4','C5', 'C6'])\n",
        "\n",
        "model.supplies = Param(model.factory, initialize={ 'Madrid':150000,'Barcelona':200000}) \n",
        "model.capacity = Param(model.store, initialize={'Sevilla':70000,'Toledo':50000,'Valencia':100000,'Zaragoza':40000})\n",
        "model.laboraty = Param(model.store, initialize={'Sevilla':5,'Toledo':6,'Valencia':5,'Zaragoza':5})\n",
        "model.demand = Param(model.customer, initialize={'C1':50000,'C2':10000,'C3': 40000,'C4' :35000,'C5':60000,'C6':20000})\n",
        "\n",
        "cost = ({\n",
        "    ('Madrid', 'C2'): 10000000,\n",
        "    ('Madrid', 'Sevilla'): 0.5,\n",
        "    ('Madrid', 'Toledo'): 0.5,\n",
        "    ('Madrid', 'Valencia'): 1.0,\n",
        "    ('Madrid', 'Zaragoza'): 0.2,\n",
        "    ('Madrid', 'C1'): 1.0,\n",
        "    ('Madrid', 'C3'): 1.5,\n",
        "    ('Madrid', 'C4'): 2.0,\n",
        "    ('Madrid', 'C6'): 1.0,\n",
        "    ('Madrid', 'C5'): 10000000,\n",
        "    ('Barcelona', 'Toledo'): 0.3,\n",
        "    ('Barcelona', 'Sevilla'): 10000000,\n",
        "    ('Barcelona', 'Valencia'): 0.5,\n",
        "    ('Barcelona', 'Zaragoza'): 0.2,\n",
        "    ('Barcelona', 'C1'): 2.0,\n",
        "    ('Barcelona', 'C2'): 10000000,\n",
        "    ('Barcelona', 'C3'): 10000000,\n",
        "    ('Barcelona', 'C4'): 10000000,\n",
        "    ('Barcelona', 'C5'): 10000000,\n",
        "    ('Barcelona', 'C6'): 10000000,\n",
        "    ('Sevilla', 'Valencia'): 0,\n",
        "    ('Sevilla', 'Sevilla'): 0,\n",
        "    ('Sevilla', 'Zaragoza'): 0,\n",
        "    ('Sevilla', 'Toledo'): 0,\n",
        "    ('Sevilla', 'C4'): 10000000,\n",
        "    ('Sevilla', 'C1'): 10000000,\n",
        "    ('Sevilla', 'C2'): 1.5,\n",
        "    ('Sevilla', 'C3'): 0.5,\n",
        "    ('Sevilla', 'C5'): 1.5,\n",
        "    ('Sevilla', 'C6'): 1.0,\n",
        "    ('Toledo', 'Valencia'): 0,\n",
        "    ('Toledo', 'Zaragoza'): 0,\n",
        "    ('Toledo', 'Sevilla'): 0,\n",
        "    ('Toledo', 'Toledo'): 0,\n",
        "    ('Toledo', 'C1'): 1.0,\n",
        "    ('Toledo', 'C2'): 0.5,\n",
        "    ('Toledo', 'C3'): 0.5,\n",
        "    ('Toledo', 'C4'): 1.0,\n",
        "    ('Toledo', 'C5'): 0.5,\n",
        "    ('Toledo', 'C6'): 10000000,\n",
        "    ('Valencia', 'Valencia'): 0,\n",
        "    ('Valencia', 'Zaragoza'): 0,\n",
        "    ('Valencia', 'Sevilla'): 0,\n",
        "    ('Valencia', 'Toledo'): 0,\n",
        "    ('Valencia', 'C1'): 10000000,\n",
        "    ('Valencia', 'C4'): 10000000,\n",
        "    ('Valencia', 'C2'): 1.5,\n",
        "    ('Valencia', 'C3'): 2.0,\n",
        "    ('Valencia', 'C5'): 0.5,\n",
        "    ('Valencia', 'C6'): 1.5,\n",
        "    ('Zaragoza', 'Valencia'): 0,\n",
        "    ('Zaragoza', 'Sevilla'): 0,\n",
        "    ('Zaragoza', 'Zaragoza'): 0,\n",
        "    ('Zaragoza', 'Toledo'): 0,\n",
        "    ('Zaragoza', 'C1'): 10000000,\n",
        "    ('Zaragoza', 'C2'): 10000000,\n",
        "    ('Zaragoza', 'C3'): 0.2,\n",
        "    ('Zaragoza', 'C4'): 1.5,\n",
        "    ('Zaragoza', 'C5'): 0.5,\n",
        "    ('Zaragoza', 'C6'): 1.5\n",
        "})\n",
        "\n",
        "model.cost = Param(model.i, model.j, initialize=cost)\n",
        "model.flow = Var(model.i, model.j, within=NonNegativeReals)"
      ]
    },
    {
      "cell_type": "code",
      "execution_count": null,
      "metadata": {
        "id": "s7xd2rqJOK6M"
      },
      "outputs": [],
      "source": [
        "def objective_rule(model):\n",
        "  return sum(model.cost[i,j]*model.flow[i,j] for i in model.i for j in model.j)\n",
        "\n",
        "model.objective = Objective(rule=objective_rule, sense=minimize)"
      ]
    },
    {
      "cell_type": "code",
      "execution_count": null,
      "metadata": {
        "id": "kDkSrVKPOS4A"
      },
      "outputs": [],
      "source": [
        "def FactoryConstraint(model, f):\n",
        "  return sum(model.flow[f,j] for j in model.j) <= model.supplies[f]\n",
        "\n",
        "model.Factory = Constraint(model.factory, rule=FactoryConstraint)\n",
        "    \n",
        "def DemandConstraint(model, c):\n",
        "  return sum(model.flow[i,c] for i in model.i) == model.demand[c]\n",
        "\n",
        "model.Demand = Constraint(model.customer, rule=DemandConstraint)\n",
        "\n",
        "\n",
        "def StoreCapacityConstraint(model, s):\n",
        "  return sum(model.flow[s,j] for j in model.j)<=model.capacity[s]\n",
        "\n",
        "model.StoreCapacity = Constraint(model.store, rule=StoreCapacityConstraint)\n",
        "\n",
        "\n",
        "def StoreConstraint(model, s):\n",
        "  return (sum(model.flow[s,j] for j in model.j)==sum(model.flow[f,s] for f in model.factory))\n",
        "\n",
        "model.Store = Constraint(model.store, rule=StoreConstraint)\n",
        "\n",
        "\n",
        "def LaboratyConstraint(model, s):\n",
        "  return sum(model.flow[s,j] for j in model.j)<=model.laboraty[s]*10000\n",
        "\n",
        "model.Laboraty = Constraint(model.store, rule=LaboratyConstraint)\n",
        "\n"
      ]
    },
    {
      "cell_type": "markdown",
      "metadata": {
        "id": "RMy4L7YIBByQ"
      },
      "source": [
        "---\n",
        "\n",
        "**Show results:**"
      ]
    },
    {
      "cell_type": "code",
      "execution_count": null,
      "metadata": {
        "colab": {
          "base_uri": "https://localhost:8080/"
        },
        "id": "S8XmgA8RQDS0",
        "outputId": "597476e4-2587-4956-ea10-4e1c7180a680"
      },
      "outputs": [
        {
          "name": "stdout",
          "output_type": "stream",
          "text": [
            "flow : Size=60, Index=flow_index\n",
            "    Key                       : Lower : Value   : Upper : Fixed : Stale : Domain\n",
            "          ('Barcelona', 'C1') :     0 :     0.0 :  None : False : False : NonNegativeReals\n",
            "          ('Barcelona', 'C2') :     0 :     0.0 :  None : False : False : NonNegativeReals\n",
            "          ('Barcelona', 'C3') :     0 :     0.0 :  None : False : False : NonNegativeReals\n",
            "          ('Barcelona', 'C4') :     0 :     0.0 :  None : False : False : NonNegativeReals\n",
            "          ('Barcelona', 'C5') :     0 :     0.0 :  None : False : False : NonNegativeReals\n",
            "          ('Barcelona', 'C6') :     0 :     0.0 :  None : False : False : NonNegativeReals\n",
            "     ('Barcelona', 'Sevilla') :     0 :     0.0 :  None : False : False : NonNegativeReals\n",
            "      ('Barcelona', 'Toledo') :     0 : 50000.0 :  None : False : False : NonNegativeReals\n",
            "    ('Barcelona', 'Valencia') :     0 : 50000.0 :  None : False : False : NonNegativeReals\n",
            "    ('Barcelona', 'Zaragoza') :     0 : 40000.0 :  None : False : False : NonNegativeReals\n",
            "             ('Madrid', 'C1') :     0 : 50000.0 :  None : False : False : NonNegativeReals\n",
            "             ('Madrid', 'C2') :     0 :     0.0 :  None : False : False : NonNegativeReals\n",
            "             ('Madrid', 'C3') :     0 :     0.0 :  None : False : False : NonNegativeReals\n",
            "             ('Madrid', 'C4') :     0 :     0.0 :  None : False : False : NonNegativeReals\n",
            "             ('Madrid', 'C5') :     0 :     0.0 :  None : False : False : NonNegativeReals\n",
            "             ('Madrid', 'C6') :     0 : 20000.0 :  None : False : False : NonNegativeReals\n",
            "        ('Madrid', 'Sevilla') :     0 :  5000.0 :  None : False : False : NonNegativeReals\n",
            "         ('Madrid', 'Toledo') :     0 :     0.0 :  None : False : False : NonNegativeReals\n",
            "       ('Madrid', 'Valencia') :     0 :     0.0 :  None : False : False : NonNegativeReals\n",
            "       ('Madrid', 'Zaragoza') :     0 :     0.0 :  None : False : False : NonNegativeReals\n",
            "            ('Sevilla', 'C1') :     0 :     0.0 :  None : False : False : NonNegativeReals\n",
            "            ('Sevilla', 'C2') :     0 :     0.0 :  None : False : False : NonNegativeReals\n",
            "            ('Sevilla', 'C3') :     0 :  5000.0 :  None : False : False : NonNegativeReals\n",
            "            ('Sevilla', 'C4') :     0 :     0.0 :  None : False : False : NonNegativeReals\n",
            "            ('Sevilla', 'C5') :     0 :     0.0 :  None : False : False : NonNegativeReals\n",
            "            ('Sevilla', 'C6') :     0 :     0.0 :  None : False : False : NonNegativeReals\n",
            "       ('Sevilla', 'Sevilla') :     0 :     0.0 :  None : False : False : NonNegativeReals\n",
            "        ('Sevilla', 'Toledo') :     0 :     0.0 :  None : False : False : NonNegativeReals\n",
            "      ('Sevilla', 'Valencia') :     0 :     0.0 :  None : False : False : NonNegativeReals\n",
            "      ('Sevilla', 'Zaragoza') :     0 :     0.0 :  None : False : False : NonNegativeReals\n",
            "             ('Toledo', 'C1') :     0 :     0.0 :  None : False : False : NonNegativeReals\n",
            "             ('Toledo', 'C2') :     0 : 10000.0 :  None : False : False : NonNegativeReals\n",
            "             ('Toledo', 'C3') :     0 :     0.0 :  None : False : False : NonNegativeReals\n",
            "             ('Toledo', 'C4') :     0 : 35000.0 :  None : False : False : NonNegativeReals\n",
            "             ('Toledo', 'C5') :     0 :  5000.0 :  None : False : False : NonNegativeReals\n",
            "             ('Toledo', 'C6') :     0 :     0.0 :  None : False : False : NonNegativeReals\n",
            "        ('Toledo', 'Sevilla') :     0 :     0.0 :  None : False : False : NonNegativeReals\n",
            "         ('Toledo', 'Toledo') :     0 :     0.0 :  None : False : False : NonNegativeReals\n",
            "       ('Toledo', 'Valencia') :     0 :     0.0 :  None : False : False : NonNegativeReals\n",
            "       ('Toledo', 'Zaragoza') :     0 :     0.0 :  None : False : False : NonNegativeReals\n",
            "           ('Valencia', 'C1') :     0 :     0.0 :  None : False : False : NonNegativeReals\n",
            "           ('Valencia', 'C2') :     0 :     0.0 :  None : False : False : NonNegativeReals\n",
            "           ('Valencia', 'C3') :     0 :     0.0 :  None : False : False : NonNegativeReals\n",
            "           ('Valencia', 'C4') :     0 :     0.0 :  None : False : False : NonNegativeReals\n",
            "           ('Valencia', 'C5') :     0 : 50000.0 :  None : False : False : NonNegativeReals\n",
            "           ('Valencia', 'C6') :     0 :     0.0 :  None : False : False : NonNegativeReals\n",
            "      ('Valencia', 'Sevilla') :     0 :     0.0 :  None : False : False : NonNegativeReals\n",
            "       ('Valencia', 'Toledo') :     0 :     0.0 :  None : False : False : NonNegativeReals\n",
            "     ('Valencia', 'Valencia') :     0 :     0.0 :  None : False : False : NonNegativeReals\n",
            "     ('Valencia', 'Zaragoza') :     0 :     0.0 :  None : False : False : NonNegativeReals\n",
            "           ('Zaragoza', 'C1') :     0 :     0.0 :  None : False : False : NonNegativeReals\n",
            "           ('Zaragoza', 'C2') :     0 :     0.0 :  None : False : False : NonNegativeReals\n",
            "           ('Zaragoza', 'C3') :     0 : 35000.0 :  None : False : False : NonNegativeReals\n",
            "           ('Zaragoza', 'C4') :     0 :     0.0 :  None : False : False : NonNegativeReals\n",
            "           ('Zaragoza', 'C5') :     0 :  5000.0 :  None : False : False : NonNegativeReals\n",
            "           ('Zaragoza', 'C6') :     0 :     0.0 :  None : False : False : NonNegativeReals\n",
            "      ('Zaragoza', 'Sevilla') :     0 :     0.0 :  None : False : False : NonNegativeReals\n",
            "       ('Zaragoza', 'Toledo') :     0 :     0.0 :  None : False : False : NonNegativeReals\n",
            "     ('Zaragoza', 'Valencia') :     0 :     0.0 :  None : False : False : NonNegativeReals\n",
            "     ('Zaragoza', 'Zaragoza') :     0 :     0.0 :  None : False : False : NonNegativeReals\n"
          ]
        }
      ],
      "source": [
        "Solver = SolverFactory('glpk')\n",
        "Results = Solver.solve(model)\n",
        "\n",
        "# Display solution\n",
        "model.flow.display()"
      ]
    },
    {
      "cell_type": "code",
      "execution_count": null,
      "metadata": {
        "id": "RZV4kWSvBByU",
        "outputId": "3252f7ce-2e06-4c00-cf69-a6f111a26059"
      },
      "outputs": [
        {
          "name": "stdout",
          "output_type": "stream",
          "text": [
            "Total costs: 200000.0\n"
          ]
        }
      ],
      "source": [
        "print('Total costs:', model.objective())"
      ]
    },
    {
      "cell_type": "markdown",
      "metadata": {
        "id": "GQ_yzB3-BByW"
      },
      "source": [
        "---\n",
        "\n",
        "**Explanation of the results:**\n",
        "\n",
        "For this problem it is used the *glpk* solver.\n",
        "\n",
        "As it was expected a lot of decision variables are zero:\n",
        "\n",
        "| To | Madrid | Barcelona | Sevilla | Toledo | Valencia | Zaragoza |\n",
        "| --- | --- | --- | --- | --- | --- | --- |\n",
        "| Sevilla  |  5,000 |   - |\n",
        "| Toledo |  | 50,000 |\n",
        "| Valencia     |  | 50,000 |\n",
        "| Zaragoza     |  | 40,000 |\n",
        "| C1 | 50,000 |  |   - |  |   - |   - |\n",
        "| C2 |   - |   - |  | 10,000 |  |   - |\n",
        "| C3 |  |   - | 5,000 |  |  | 35,000 |\n",
        "| C4 |  |   - |   - | 35,000 |   - |  |\n",
        "| C5 |   - |   - |  | 5,000 | 50,000 | 5,000 |\n",
        "| C6 | 20,000 |   - |  |   - |  |  |\n",
        "\n",
        "\n",
        "If we check all the values, we see that the customers' demand is satisfied. Also the capacity for each factory, laboratory and store is never surpass, meaning that the constraints works as they stablish limits. Also, defining a big value for the cost works great, ensuring that the value for these decision variables are cero (they are the impossible ways). Finally, it is also satisfied the flow in the stores (the number of products that come out from the store must be equal to the number of products that enters in), as for example, the store in Sevilla sends 5,00 units of the product to Customer 2, but it recives the 5,000 units from the factory of Madrid.\n",
        "\n",
        "---"
      ]
    },
    {
      "cell_type": "markdown",
      "metadata": {
        "id": "91UnvqX-BByX"
      },
      "source": [
        "### NON-LINEAR MODEL\n",
        "\n",
        "---\n",
        "\n",
        "**Description of the problem:**"
      ]
    },
    {
      "cell_type": "markdown",
      "metadata": {
        "id": "6Mt793QMBByY"
      },
      "source": [
        "A company in juices market produces five different types of juices (A, B, C, D, E and F). Each juice has a specific quatity of pure juice, aditives and water in order to make each one distintive (some of them are obtained with less quatity of total liters, which is the sum of pure juice, water and aditives). Besides, each juice has a production cost.\n",
        "\n",
        "The information about the juices is given by:\n",
        "\n",
        "| Juice | Pure juice (litres) | Total litres | Cost (euros per litre) |\n",
        "| --- | --- | --- | --- |\n",
        "| A | 2 | 4 | 10 |\n",
        "| B | 5 | 9 | 2 |\n",
        "| C | 3 | 6 | 3 |\n",
        "| D | 1 | 3 | 2 |\n",
        "| E | 0.5 | 2 | 1 |\n",
        "| F | 1.5 | 5 | 1 |\n",
        "\n",
        "\n",
        "It is also known that the company has only 20,000 kg of fruit. Knowing that from 10 kg of fruit they obtain 7 litres of pure juice (then 20,000x7/10 = 14,000 litres of pure juice).\n",
        "\n",
        "It is know that for marketing reasons that at least a 20% of the total litres should be of juice A and 40% should be of juice B. The rest have to reach the 3,000 total litres each.\n",
        "\n",
        "The benefits for the company is given by the equation:\n",
        "\n",
        "\\begin{equation}\n",
        "2· ({\\text{a}^2 + \\text{b}^2 + \\text{c}^2 +\\text{d}^2 +\\text{e}^2 +\\text{f}^2 })\n",
        "\\end{equation}\n",
        "\n",
        "where a, b, c, d, e and f are the total final litres of each type of juice.\n",
        "\n",
        "The company wants to know how much of each type of juice has to produce in order to obtain the highest profit.\n",
        "\n",
        "*Note 4:* In order to calculate the real benefit for the company, it must be taken into account the production costs.\n",
        "\n"
      ]
    },
    {
      "cell_type": "markdown",
      "metadata": {
        "id": "y5lLyEhBBByZ"
      },
      "source": [
        "---\n",
        "\n",
        "**Formulation of the problem:** \n",
        "\n",
        "*Sets:*\n",
        "\n",
        "$$o \\in \\text{Juice} = \\{\\text{A}, \\text{B}, \\text{C}, \\text{D}, \\text{E}, \\text{F}\\}$$\n",
        "$$j \\in \\text{Destinations} = \\text{Stores} \\cup \\text{Customers}=\\{\\text{Sevilla}, \\text{Toledo}, \\text{Valencia}, \\text{Zaragoza}, \\text{C1}, \\text{C2}, \\text{C3}, \\text{C4}, \\text{C5}, \\text{C6}\\}$$\n",
        "\n",
        "*Parameters:*\n",
        "\n",
        "*   Litres of pure juice: $\\hspace{0.2cm}\\text{pure juice}_o \\in \\mathbb{R}^+$\n",
        "\n",
        "\n",
        "*   Total litres to create each type of juice: $\\hspace{0.2cm}\\text{litres}_o \\in \\mathbb{R}^+$\n",
        "\n",
        "\n",
        "*   Cost of production of each type of juice: $\\hspace{0.2cm}\\text{cost}_s \\in \\mathbb{R}^+$\n",
        "\n",
        "*Note 5:* Six more parameters are created (named a, b, c, d, e, f). They just contain one 1 and the rest are 0, because they are just telling the type of juice (1 is true and 0 is false). For example for parameter a, there is just a 1 in the first position and the rest are zeros.\n",
        "\n",
        "*   $\\text{a}_o$\n",
        "\n",
        "*   $\\text{b}_o$\n",
        "\n",
        "*   $\\text{c}_o$\n",
        "\n",
        "*   $\\text{d}_o$\n",
        "\n",
        "*   $\\text{e}_o$\n",
        "\n",
        "*   $\\text{f}_o$\n",
        "\n",
        "\n",
        "*Decisional variables:*\n",
        "\n",
        "Total litres for type of juice $o$:\n",
        "\n",
        "\n",
        "$$\\text{x}_{o} \\in \\mathbb{R}^+$$\n",
        "\n",
        "\n",
        "*Objective function:*\n",
        "\n",
        "The objective of this problem is to maximize the profit.\n",
        "\n",
        "\\begin{equation}\n",
        "\\text{max} \\sum_{o \\in \\text{juices}}2·{\\text{x}_{o}^2}-\\sum_{o \\in \\text{juices}}{\\text{x}_{o}}·{\\text{cost}_{o}}\n",
        "\\end{equation}\n",
        "\n",
        "\n",
        "*Constraints:*\n",
        "\n",
        "*   Constraint for the pure juice: We have a limited volume of pure juice, given by fruit. The litres of pure juice used in the production cannot be higher than the stock.\n",
        "\n",
        "\\begin{equation}\n",
        "\\sum_{o \\in \\text{juices}} \\frac{\\text{pure juice}_{o}}{\\text{litres}_{o}}· {\\text{x}_{o}}\\geq 14,000\n",
        "\\end{equation}\n",
        "\n",
        "\n",
        "*   Constraint for juice A: Its final total litres should be at least a 20% of the total litres of juice produced.\n",
        "\n",
        "\n",
        "\\begin{equation}\n",
        "\\sum_{o \\in \\text{juices}}{\\text{x}_{o}}·{\\text{a}_{o}} \\geq  \\sum_{o \\in \\text{juices}}{\\text{x}_{o}}·{\\text{juices}_{o}}·0.2\n",
        "\\end{equation}\n",
        "\n",
        "\n",
        "*   Constraint for juice B: Its final total litres should be at least a 40% of the total litres of juice produced.\n",
        "\n",
        "\\begin{equation}\n",
        "\\sum_{o \\in \\text{juices}}{\\text{x}_{o}}·{\\text{b}_{o}} \\geq  \\sum_{o \\in \\text{juices}}{\\text{x}_{o}}·{\\text{juices}_{o}}·0.4\n",
        "\\end{equation}\n",
        "\n",
        "\n",
        "\n",
        "*   Constraint for juice C: Its total litres shoul be at least 3,000 litres\n",
        "\n",
        "\\begin{equation}\n",
        "\\sum_{o \\in \\text{juices}}{\\text{x}_{o}}·{\\text{c}_{o}} \\geq  3,000\n",
        "\\end{equation}\n",
        "\n",
        "\n",
        "*   Constraint for juice D: Its total litres shoul be at least 3,000 litres\n",
        "\n",
        "\\begin{equation}\n",
        "\\sum_{o \\in \\text{juices}}{\\text{x}_{o}}·{\\text{d}_{o}} \\geq  3,000\n",
        "\\end{equation}\n",
        "\n",
        "*   Constraint for juice E: Its total litres shoul be at least 3,000 litres\n",
        "\n",
        "\\begin{equation}\n",
        "\\sum_{o \\in \\text{juices}}{\\text{x}_{o}}·{\\text{e}_{o}} \\geq  3,000\n",
        "\\end{equation}\n",
        "\n",
        "*   Constraint for juice F: Its total litres shoul be at least 3,000 litres\n",
        "\n",
        "\\begin{equation}\n",
        "\\sum_{o \\in \\text{juices}}{\\text{x}_{o}}·{\\text{f}_{o}} \\geq  3,000\n",
        "\\end{equation}\n",
        "\n",
        "\n",
        "*Note 5: Constraints A and B follow the same structure. Constraints C, D, E and F are also very similar between each other. \n",
        "\n",
        "---"
      ]
    },
    {
      "cell_type": "markdown",
      "metadata": {
        "id": "3qxaoKwmBByb"
      },
      "source": [
        "**Explanation of the code:**\n",
        "\n",
        "After loading the Pyomo Modeling Enviroment, the *model* is defined. In this case the model is *Concrete* as it is inmediatily constructed and the used data\tis\tpresented\tat\tthe\ttime as the\tcomponents are\tdefined. It should be pointed out that the model is constructed using a local variable so it is easier to call when it is needed.\n",
        "\n",
        "Next, the set range is defined. As the given data is not too large, is written manually.\n",
        "\n",
        "Thanks to the set, now we are able to built the parameters, which contains crucial information to solve the problem. As it was said before, six parameters just contain one 1 and the rest are 0, because they are just telling the type of juice (1 is true and 0 is false).\n",
        "\n",
        "The decison varibles, named as *x*, uses the index set previusly created, with domanin *NonNegativeReals*, which means that in the solution we do not accept negative numbers. As we know the the set for these varibles, we know that at the end we are computing for 5 decision variables (as much as types of juice we have).\n",
        "\n",
        "The next step is to set the objective function. It is just following the formula defined above applied to python. It is important to specify our desire of maximize. The same is done for the seven constraints, it is just following the formulas.\n",
        "\n",
        "*Note 6:* To see in more detail, the definitions of the sets, parameters, decision variables, objective function and constraints, they are described in *Formulation of the problem*.\n",
        "\n"
      ]
    },
    {
      "cell_type": "markdown",
      "metadata": {
        "id": "UbX3MTfwBByc"
      },
      "source": [
        "---\n",
        "\n",
        "**Code:**"
      ]
    },
    {
      "cell_type": "code",
      "execution_count": null,
      "metadata": {
        "id": "vF2Nz0EUBByd"
      },
      "outputs": [],
      "source": [
        "from pyomo.environ import *\n",
        "model_nonlinear = ConcreteModel()\n",
        "\n",
        "\n",
        "\n",
        "model_nonlinear.juice = Set(initialize=['A','B','C','D','E','F'])\n",
        "model_nonlinear.purejuice = Param(model_nonlinear.juice, initialize={'A':2,'B':5,'C':3,'D':1,'E':0.5,'F':1.5}) \n",
        "model_nonlinear.litres = Param(model_nonlinear.juice, initialize={'A':4,'B':9,'C':6,'D':3,'E':2,'F':5})  \n",
        "model_nonlinear.cost = Param(model_nonlinear.juice,initialize={'A':10,'B':2,'C':3,'D':2,'E':1,'F':1})\n",
        "model_nonlinear.a = Param(model_nonlinear.juice,initialize={'A':1,'B':0,'C':0,'D':0,'E':0,'F':0})\n",
        "model_nonlinear.b = Param(model_nonlinear.juice,initialize={'A':0,'B':1,'C':0,'D':0,'E':0,'F':0})\n",
        "model_nonlinear.c = Param(model_nonlinear.juice,initialize={'A':0,'B':0,'C':1,'D':0,'E':0,'F':0})\n",
        "model_nonlinear.d = Param(model_nonlinear.juice,initialize={'A':0,'B':0,'C':0,'D':1,'E':0,'F':0})\n",
        "model_nonlinear.e = Param(model_nonlinear.juice,initialize={'A':0,'B':0,'C':0,'D':0,'E':1,'F':0})\n",
        "model_nonlinear.f = Param(model_nonlinear.juice,initialize={'A':0,'B':0,'C':0,'D':0,'E':0,'F':1})\n",
        "\n",
        "\n",
        "model_nonlinear.x = Var(model_nonlinear.juice, within=NonNegativeReals)"
      ]
    },
    {
      "cell_type": "code",
      "execution_count": null,
      "metadata": {
        "id": "JjZJAixYBBye"
      },
      "outputs": [],
      "source": [
        "def obj(model_nonlinear):\n",
        "  return sum(2*(model_nonlinear.x[o]**2)-(model_nonlinear.x[o]*model_nonlinear.cost[o]) for o in model_nonlinear.juice)\n",
        "\n",
        "model_nonlinear.Obj = Objective(rule=obj, sense=maximize)"
      ]
    },
    {
      "cell_type": "code",
      "execution_count": null,
      "metadata": {
        "id": "PvZdmiVKBByf"
      },
      "outputs": [],
      "source": [
        "def Total_kg_fruit_Constraint(model_nonlinear):\n",
        "  return sum((model_nonlinear.purejuice[o]/model_nonlinear.litres[o])*model_nonlinear.x[o] for o in model_nonlinear.juice)<=14000\n",
        "\n",
        "model_nonlinear.Total_kg_fruit = Constraint(rule=Total_kg_fruit_Constraint)\n",
        "\n",
        "def constraintC(model_nonlinear):\n",
        "    return (sum(model_nonlinear.x[o]*model_nonlinear.c[o] for o in model_nonlinear.juice)) >= 3000\n",
        "\n",
        "model_nonlinear.ConstraintC = Constraint(rule=constraintC)\n",
        "\n",
        "def constraintD(model_nonlinear):\n",
        "    return (sum(model_nonlinear.x[o]*model_nonlinear.d[o] for o in model_nonlinear.juice)) >= 3000\n",
        "\n",
        "model_nonlinear.ConstraintD = Constraint(rule=constraintD)\n",
        "\n",
        "def constraintE(model_nonlinear):\n",
        "    return (sum(model_nonlinear.x[o]*model_nonlinear.e[o] for o in model_nonlinear.juice)) >= 3000\n",
        "\n",
        "model_nonlinear.ConstraintE = Constraint(rule=constraintE)\n",
        "\n",
        "def constraintF(model_nonlinear):\n",
        "    return (sum(model_nonlinear.x[o]*model_nonlinear.f[o] for o in model_nonlinear.juice)) >= 3000\n",
        "\n",
        "model_nonlinear.ConstraintF = Constraint(rule=constraintF)\n",
        "\n",
        "def constraintA(model_nonlinear):\n",
        "    return (sum(model_nonlinear.x[o]*model_nonlinear.a[o] for o in model_nonlinear.juice)) >= (sum(model_nonlinear.x[o] for o in model_nonlinear.juice))*0.2\n",
        "\n",
        "model_nonlinear.ConstraintA = Constraint(rule=constraintA)\n",
        "\n",
        "def constraintB(model_nonlinear):\n",
        "    return (sum(model_nonlinear.x[o]*model_nonlinear.b[o] for o in model_nonlinear.juice)) >= 0.4*(sum(model_nonlinear.x[o] for o in model_nonlinear.juice))\n",
        "\n",
        "model_nonlinear.ConstraintB = Constraint(rule=constraintB)\n"
      ]
    },
    {
      "cell_type": "markdown",
      "metadata": {
        "id": "L5R_Dz_tBByg"
      },
      "source": [
        "---\n",
        "\n",
        "**Show resuts:**"
      ]
    },
    {
      "cell_type": "code",
      "execution_count": null,
      "metadata": {
        "id": "_7kPzeiWBByi",
        "outputId": "411875e3-6339-4ea6-d944-9bd77a8279c6"
      },
      "outputs": [
        {
          "name": "stdout",
          "output_type": "stream",
          "text": [
            "x : Size=6, Index=juice\n",
            "    Key : Lower : Value              : Upper : Fixed : Stale : Domain\n",
            "      A :     0 :   6067.34698094898 :  None : False : False : NonNegativeReals\n",
            "      B :     0 : 12269.388043845918 :  None : False : False : NonNegativeReals\n",
            "      C :     0 :         2999.99997 :  None : False : False : NonNegativeReals\n",
            "      D :     0 :         2999.99997 :  None : False : False : NonNegativeReals\n",
            "      E :     0 :         2999.99997 :  None : False : False : NonNegativeReals\n",
            "      F :     0 :         2999.99997 :  None : False : False : NonNegativeReals\n"
          ]
        }
      ],
      "source": [
        "from pyomo.opt import SolverFactory\n",
        "solver = SolverFactory('ipopt')\n",
        "results = solver.solve(model_nonlinear)\n",
        "model_nonlinear.x.display()"
      ]
    },
    {
      "cell_type": "code",
      "execution_count": null,
      "metadata": {
        "id": "YFJKrRIWBByj",
        "outputId": "f92cbb3d-f24c-4fa9-c9e8-cf6fabac9993"
      },
      "outputs": [
        {
          "name": "stdout",
          "output_type": "stream",
          "text": [
            "Benefits:  446594951.0297125\n"
          ]
        }
      ],
      "source": [
        "print('Benefits: ', model_nonlinear.Obj())"
      ]
    },
    {
      "cell_type": "markdown",
      "metadata": {
        "id": "EJCOlMpmBByk"
      },
      "source": [
        "---\n",
        "\n",
        "**Explanation of the results:**\n",
        "\n",
        "If we check all the total litres for each type of juice, we see that the constraints are satisfied and it achieves the greatest profit possible. For example, juice C, D, E and F are exaclty 3,000 litres each. Also, (I calculated this with the calculator) the 20% of the total litres of the production is about 5,467 which is less than the total litres of juice A, so Constraint A is also satisfied. \n",
        "\n",
        "The results (the values are rounded):\n",
        "\n",
        "| Juice | Total litres | \n",
        "| --- | --- | \n",
        "| A | 6,067 | \n",
        "| B | 12,269 | \n",
        "| C | 3,000 | \n",
        "| D | 3,000 | \n",
        "| E | 3,000 | \n",
        "| F | 3,000 | \n",
        "\n",
        "---"
      ]
    },
    {
      "cell_type": "markdown",
      "metadata": {
        "id": "iknV-l7CBByk"
      },
      "source": [
        "### CONCLUSIONS ABOUT THE SECOND HOMEWORK\n",
        "\n",
        "---\n",
        "\n",
        "This assignment is about half of the topic 2 and the entire content of topic 3.\n",
        "\n",
        "As the First Homework, the hardest part of the assignment is to come up with an interesting problem for each case. \n",
        "\n",
        "Regarding to the first part of the work, the Network problem, there are few different type of exercises. Probably, the most well-known are those related with transport and logistics. In my case, I have chosed this type of problem, but I have also based it in the *Minimum Cost Flow Problem*. In fact, its base is practically the same as the algorithm searches for the combination of decision variables that gives the minimum cost. The differnt part is the definition of the constraints (and the needed sets and parameters) that add an extra difficulty to the mentioned problem. Although the data is not real (I invented the values), the result and conclusion of the problem is quite realistic if we look to a real case. The products are sent to the clients with the journey with less, we try to not overpass the capacities of the factories and stores and the customer's demand is satisfied.\n",
        "\n",
        "\n",
        "On the other hand, defining a Non-lineal Model has been a real challenge for me. Although, and making some constructive critisim, I would loved to prepare a more complex problem (not in size data, I am talking about more complex constraints), I have to addmit that I am satisfied as it is based on a real problem and it achieves the objective statement: create a non-lineal objective function and one non trivial constraint. I have achieved that and I created more than one non trivial constraint."
      ]
    }
  ],
  "metadata": {
    "colab": {
      "collapsed_sections": [],
      "name": "EscobarCrespo-Laura-HW2.ipynb",
      "provenance": []
    },
    "kernelspec": {
      "display_name": "Python 3",
      "language": "python",
      "name": "python3"
    },
    "language_info": {
      "codemirror_mode": {
        "name": "ipython",
        "version": 3
      },
      "file_extension": ".py",
      "mimetype": "text/x-python",
      "name": "python",
      "nbconvert_exporter": "python",
      "pygments_lexer": "ipython3",
      "version": "3.7.3"
    }
  },
  "nbformat": 4,
  "nbformat_minor": 0
}